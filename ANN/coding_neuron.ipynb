{
 "cells": [
  {
   "cell_type": "code",
   "execution_count": 1,
   "metadata": {},
   "outputs": [
    {
     "name": "stdout",
     "output_type": "stream",
     "text": [
      "400\n"
     ]
    }
   ],
   "source": [
    "### using only python\n",
    "# single neuron\n",
    "inputs=[1,2,3,4]\n",
    "weights=[10,20,30,40]\n",
    "bias=100\n",
    "output=0\n",
    "for i in range(len(inputs)):\n",
    "    output+=inputs[i]*weights[i]\n",
    "\n",
    "output=output+bias\n",
    "print(output)"
   ]
  },
  {
   "cell_type": "code",
   "execution_count": null,
   "metadata": {},
   "outputs": [],
   "source": []
  },
  {
   "cell_type": "code",
   "execution_count": 2,
   "metadata": {},
   "outputs": [
    {
     "name": "stdout",
     "output_type": "stream",
     "text": [
      "[1050, 3550]\n"
     ]
    }
   ],
   "source": [
    "# two neuron\n",
    "inputs=[1,2]\n",
    "weights=[[10,20,30,40],[100,200,300,400]]\n",
    "\n",
    "bias=[1000,2000]\n",
    "outputs=[]\n",
    "out=0\n",
    "for i in range(len(weights)):\n",
    "    for j in range(len(inputs)):\n",
    "        out+=inputs[j]*weights[i][j]\n",
    "    out=out+bias[i]\n",
    "    outputs.append(out)\n",
    "\n",
    "print(outputs)\n",
    "    \n"
   ]
  },
  {
   "cell_type": "code",
   "execution_count": 3,
   "metadata": {},
   "outputs": [
    {
     "name": "stdout",
     "output_type": "stream",
     "text": [
      "[1300, 6300, 12600]\n"
     ]
    }
   ],
   "source": [
    "## three neurons\n",
    "inputs=[1,2,3,4]\n",
    "weights=[[10,20,30,40],[100,200,300,400],[110,220,330,440]] \n",
    "\n",
    "\n",
    "\n",
    "\n",
    "bias=[1000,2000,3000]\n",
    "outputs=[]\n",
    "out=0\n",
    "for i in range(len(weights)):\n",
    "    for j in range(len(inputs)):\n",
    "        out+=inputs[j]*weights[i][j]\n",
    "    out=out+bias[i]\n",
    "    outputs.append(out)\n",
    "\n",
    "print(outputs)"
   ]
  },
  {
   "cell_type": "code",
   "execution_count": 4,
   "metadata": {},
   "outputs": [
    {
     "data": {
      "text/plain": [
       "400"
      ]
     },
     "execution_count": 4,
     "metadata": {},
     "output_type": "execute_result"
    }
   ],
   "source": [
    "## lets use numpy\n",
    "import numpy as np\n",
    "# single neuron\n",
    "inputs=[1,2,3,4]\n",
    "weights=[10,20,30,40]\n",
    "output=np.dot(inputs,weights)\n",
    "output+=100\n",
    "output\n"
   ]
  },
  {
   "cell_type": "code",
   "execution_count": 5,
   "metadata": {},
   "outputs": [
    {
     "data": {
      "text/plain": [
       "[1300, 5000]"
      ]
     },
     "execution_count": 5,
     "metadata": {},
     "output_type": "execute_result"
    }
   ],
   "source": [
    "# two neuron\n",
    "inputs=[1,2,3,4]\n",
    "weights=[[10,20,30,40],[100,200,300,400]]\n",
    "bias=[1000,2000]\n",
    "outputs=[]\n",
    "for i in range(len(weights)):\n",
    "   \n",
    "        # out+=inputs[j]*weights[i][j]\n",
    "    outputs.append(np.dot(weights[i],inputs)+bias[i])\n",
    "\n",
    "\n",
    "outputs\n"
   ]
  },
  {
   "cell_type": "code",
   "execution_count": 6,
   "metadata": {},
   "outputs": [
    {
     "data": {
      "text/plain": [
       "[array([[1300, 2300, 3300, 4300],\n",
       "        [4000, 5000, 6000, 7000],\n",
       "        [1030, 2030, 3030, 4030],\n",
       "        [1030, 2030, 3030, 4030]])]"
      ]
     },
     "execution_count": 6,
     "metadata": {},
     "output_type": "execute_result"
    }
   ],
   "source": [
    "inputs=[[1,2,3,4],[1,2,3,4],[1,2,3,4],[1,2,3,4]]\n",
    "weights=[[10,20,30,40],[100,200,300,400],[1,2,3,4],[1,2,3,4]]\n",
    "bias=[1000,2000,3000,4000]\n",
    "outputs=[]\n",
    "outputs.append(np.dot(weights,np.array(inputs).T)+bias)\n",
    "outputs"
   ]
  },
  {
   "cell_type": "code",
   "execution_count": 7,
   "metadata": {},
   "outputs": [
    {
     "name": "stdout",
     "output_type": "stream",
     "text": [
      "[[ 204900 2041000   23390]\n",
      " [ 822600 8218000   85160]\n",
      " [ 780000 7792000   80900]]\n"
     ]
    },
    {
     "data": {
      "text/plain": [
       "[]"
      ]
     },
     "execution_count": 7,
     "metadata": {},
     "output_type": "execute_result"
    }
   ],
   "source": [
    "# for more layers\n",
    "inputs=[[1,2,3,4],[12,22,32,42],[10,20,30,40]]\n",
    "weights=[[10,20,30,40],[100,200,300,400],[1,2,3,4]]\n",
    "weights2=[[10,20,30],[100,200,300],[1,2,3]]\n",
    "bias=[1000,2000,3000]\n",
    "bias2=[1000,2000,3000]\n",
    "outputs=[]\n",
    "f1=np.dot(np.array(inputs),np.array(weights).T)+np.array(bias).T\n",
    "print(np.dot(f1,np.array(weights2).T)+np.array(bias2).T)\n",
    "outputs"
   ]
  },
  {
   "cell_type": "code",
   "execution_count": 8,
   "metadata": {},
   "outputs": [
    {
     "name": "stdout",
     "output_type": "stream",
     "text": [
      "Defaulting to user installation because normal site-packages is not writeable\n",
      "Requirement already satisfied: nnfs in c:\\users\\manas\\appdata\\roaming\\python\\python312\\site-packages (0.5.1)\n",
      "Requirement already satisfied: numpy in c:\\users\\manas\\appdata\\roaming\\python\\python312\\site-packages (from nnfs) (1.26.2)\n"
     ]
    }
   ],
   "source": [
    "## generating non linear data\n",
    "!pip3 install nnfs\n",
    "from nnfs.datasets import spiral_data"
   ]
  },
  {
   "cell_type": "code",
   "execution_count": 9,
   "metadata": {},
   "outputs": [
    {
     "data": {
      "image/png": "[encoded data removed]",
      "text/plain": [
       "<Figure size 640x480 with 1 Axes>"
      ]
     },
     "metadata": {},
     "output_type": "display_data"
    }
   ],
   "source": [
    "from nnfs.datasets import spiral_data\n",
    "import numpy as np\n",
    "import nnfs\n",
    "nnfs.init()\n",
    "x,y=spiral_data(samples=100,classes=3)\n",
    "import matplotlib.pyplot as plt\n",
    "plt.scatter(x[:, 0], x[:, 1])\n",
    "plt.show()\n"
   ]
  },
  {
   "cell_type": "code",
   "execution_count": 10,
   "metadata": {},
   "outputs": [
    {
     "data": {
      "image/png": "[encoded data removed]",
      "text/plain": [
       "<Figure size 640x480 with 1 Axes>"
      ]
     },
     "metadata": {},
     "output_type": "display_data"
    }
   ],
   "source": [
    "plt.scatter(x[:, 0], x[:, 1],c=y,cmap='brg')\n",
    "plt.show()"
   ]
  },
  {
   "cell_type": "code",
   "execution_count": 11,
   "metadata": {},
   "outputs": [
    {
     "data": {
      "text/plain": [
       "array([[0., 0., 0., 0., 0., 0.]], dtype=float32)"
      ]
     },
     "execution_count": 11,
     "metadata": {},
     "output_type": "execute_result"
    }
   ],
   "source": [
    "np.zeros((1,6))"
   ]
  },
  {
   "cell_type": "markdown",
   "metadata": {},
   "source": [
    "<div class=\"alert alert-block alert-success\">\n",
    "<b>DENSE LAYER CLASS</b>\n",
    "</div>"
   ]
  },
  {
   "cell_type": "code",
   "execution_count": 12,
   "metadata": {},
   "outputs": [
    {
     "data": {
      "text/plain": [
       "array([[ 0.00000000e+00,  0.00000000e+00,  0.00000000e+00],\n",
       "       [-1.04751882e-04,  1.13953611e-04, -4.79834998e-05],\n",
       "       [-2.74148420e-04,  3.17291502e-04, -8.69217984e-05],\n",
       "       [-4.21883655e-04,  5.26662567e-04, -5.59126820e-05],\n",
       "       [-5.77076804e-04,  7.14014051e-04, -8.94304394e-05],\n",
       "       [-3.54306976e-04,  3.50254879e-04, -2.33634812e-04],\n",
       "       [-8.92670010e-04,  1.07678759e-03, -1.94532375e-04],\n",
       "       [-9.33507807e-04,  1.07238023e-03, -3.12273973e-04],\n",
       "       [-1.12437585e-03,  1.31128007e-03, -3.36296740e-04],\n",
       "       [-1.33869553e-03,  1.62009057e-03, -2.81017943e-04],\n",
       "       [-1.48779724e-03,  1.79484230e-03, -3.23859538e-04],\n",
       "       [-1.20035873e-03,  1.58119109e-03,  8.65937000e-06],\n",
       "       [-1.56528328e-03,  1.99173321e-03, -1.30997345e-04],\n",
       "       [-1.85718178e-03,  2.30642664e-03, -2.70479388e-04],\n",
       "       [-1.78093580e-03,  2.27836682e-03, -1.24245722e-04],\n",
       "       [-1.85300526e-03,  2.38476763e-03, -1.00471654e-04],\n",
       "       [-6.99865050e-04,  1.11472746e-03,  3.96097894e-04],\n",
       "       [-2.19024252e-03,  2.79446482e-03, -1.68075712e-04],\n",
       "       [-1.69829139e-03,  2.29598465e-03,  1.31671681e-04],\n",
       "       [-2.60229013e-03,  3.27291898e-03, -2.95551814e-04],\n",
       "       [-2.79824762e-03,  3.25863226e-03, -8.46611336e-04],\n",
       "       [-6.62265695e-04,  1.16156484e-03,  5.91262244e-04],\n",
       "       [-2.34385152e-05,  4.16283088e-04,  7.81800132e-04],\n",
       "       [-2.22919136e-03,  2.99929525e-03,  1.43561774e-04],\n",
       "       [ 2.79162521e-03, -3.10669374e-03,  1.13710808e-03],\n",
       "       [-2.82744877e-03,  3.70035390e-03, -2.85736460e-05],\n",
       "       [-4.81957541e-05,  5.16693690e-04,  9.19478654e-04],\n",
       "       [-1.12146503e-04,  6.11394178e-04,  9.41154314e-04],\n",
       "       [ 3.34717403e-03, -3.74739477e-03,  1.31786498e-03],\n",
       "       [ 3.63627588e-03, -4.11514286e-03,  1.34229811e-03],\n",
       "       [ 1.92611036e-03, -1.84830802e-03,  1.38321624e-03],\n",
       "       [ 2.82350834e-03, -2.97681033e-03,  1.48546463e-03],\n",
       "       [ 6.02233515e-04, -1.67318693e-04,  1.26518577e-03],\n",
       "       [-1.53827597e-03,  2.41001090e-03,  7.89249549e-04],\n",
       "       [ 2.85128853e-03, -2.94735585e-03,  1.61921384e-03],\n",
       "       [ 4.24167980e-03, -4.76334151e-03,  1.64067710e-03],\n",
       "       [ 5.35529340e-03, -6.47814013e-03,  1.12994132e-03],\n",
       "       [ 5.47406217e-03, -6.67855563e-03,  1.03991898e-03],\n",
       "       [ 4.70530288e-03, -5.30964276e-03,  1.76796631e-03],\n",
       "       [ 5.23962313e-03, -6.03079936e-03,  1.72899722e-03],\n",
       "       [ 4.48891381e-03, -4.95675951e-03,  1.90711429e-03],\n",
       "       [ 4.24570590e-03, -4.60708095e-03,  1.96830905e-03],\n",
       "       [ 4.15648101e-03, -4.46545286e-03,  2.01781979e-03],\n",
       "       [ 2.97913607e-03, -4.26813867e-03, -7.18790398e-04],\n",
       "       [ 6.54056575e-03, -7.86392391e-03,  1.47738378e-03],\n",
       "       [ 6.66576903e-03, -8.12278781e-03,  1.28596986e-03],\n",
       "       [ 6.69042300e-03, -7.90708512e-03,  1.78911281e-03],\n",
       "       [ 4.32589184e-03, -5.87436277e-03, -3.88175424e-04],\n",
       "       [ 7.01201102e-03, -8.30574427e-03,  1.83740794e-03],\n",
       "       [ 5.97258890e-03, -7.70690013e-03,  2.82589026e-04],\n",
       "       [ 6.93482393e-03, -8.69232044e-03,  8.47760472e-04],\n",
       "       [ 3.35664232e-03, -4.85947682e-03, -9.12277726e-04],\n",
       "       [ 5.58268931e-03, -7.37549178e-03, -8.40966823e-05],\n",
       "       [ 6.80049183e-03, -8.68413597e-03,  5.06460550e-04],\n",
       "       [ 2.85090180e-03, -4.33256850e-03, -1.19111000e-03],\n",
       "       [ 2.73857702e-04, -1.30009698e-03, -1.90704083e-03],\n",
       "       [ 9.42569284e-04, -2.11934187e-03, -1.78688427e-03],\n",
       "       [-8.94057448e-04,  7.98355977e-05, -2.22010678e-03],\n",
       "       [ 2.23323703e-03, -3.68446624e-03, -1.52235094e-03],\n",
       "       [ 2.19157184e-04, -1.30481448e-03, -2.06234562e-03],\n",
       "       [ 7.02887482e-04, -1.90354802e-03, -1.98782049e-03],\n",
       "       [-1.61276315e-03,  8.88579467e-04, -2.49475846e-03],\n",
       "       [-4.87385259e-04, -5.03437070e-04, -2.31953058e-03],\n",
       "       [ 2.79420684e-03, -4.43429593e-03, -1.54847011e-03],\n",
       "       [-6.49189809e-03,  7.01261312e-03, -3.07422900e-03],\n",
       "       [-5.15000476e-03,  5.24785277e-03, -3.07808956e-03],\n",
       "       [-4.74837929e-04, -5.89296629e-04, -2.46022921e-03],\n",
       "       [-9.27615911e-03,  1.07673705e-02, -2.87740491e-03],\n",
       "       [-5.81121305e-03,  6.03479007e-03, -3.24377767e-03],\n",
       "       [-9.54022817e-03,  1.10694468e-02, -2.96833017e-03],\n",
       "       [-1.03954356e-02,  1.26270801e-02, -2.08786665e-03],\n",
       "       [-1.04636475e-02,  1.24618784e-02, -2.60464218e-03],\n",
       "       [-9.55853239e-03,  1.21143209e-02, -8.98030412e-04],\n",
       "       [-8.85451026e-03,  9.94538236e-03, -3.42105608e-03],\n",
       "       [-1.05120707e-02,  1.30804004e-02, -1.47925375e-03],\n",
       "       [-1.10487267e-02,  1.31548755e-02, -2.75801658e-03],\n",
       "       [-1.12083890e-02,  1.33558260e-02, -2.77586374e-03],\n",
       "       [-1.13816336e-02,  1.38972020e-02, -2.13949126e-03],\n",
       "       [-1.09055489e-02,  1.36378417e-02, -1.39706803e-03],\n",
       "       [-9.47057456e-03,  1.22600151e-02, -3.68209381e-04],\n",
       "       [-1.18110767e-02,  1.44355921e-02, -2.19176058e-03],\n",
       "       [-3.70575837e-03,  5.83366072e-03,  1.95783773e-03],\n",
       "       [-5.07630361e-03,  7.44418567e-03,  1.57256424e-03],\n",
       "       [-1.19901439e-02,  1.48273585e-02, -1.87432044e-03],\n",
       "       [ 3.50416009e-03, -2.80893152e-03,  3.63937928e-03],\n",
       "       [ 7.02582626e-03, -7.23656267e-03,  4.04258026e-03],\n",
       "       [ 4.16412205e-03, -3.59364226e-03,  3.80626111e-03],\n",
       "       [-3.16320406e-03,  5.30708674e-03,  2.33543036e-03],\n",
       "       [-7.29834754e-03,  1.01005556e-02,  1.03969674e-03],\n",
       "       [ 7.17180222e-03, -7.33979698e-03,  4.22213553e-03],\n",
       "       [-7.42342265e-04,  2.48111179e-03,  3.05403583e-03],\n",
       "       [ 1.02462415e-02, -1.13222776e-02,  4.33659181e-03],\n",
       "       [ 5.98201016e-03, -5.76332957e-03,  4.24936693e-03],\n",
       "       [ 1.11535490e-02, -1.24961603e-02,  4.37320629e-03],\n",
       "       [ 9.30947345e-03, -1.00031337e-02,  4.51608188e-03],\n",
       "       [ 1.19278030e-02, -1.35027459e-02,  4.39461926e-03],\n",
       "       [ 9.81353037e-03, -1.06187211e-02,  4.61058132e-03],\n",
       "       [ 1.42109115e-02, -1.74567290e-02,  2.45854538e-03],\n",
       "       [ 1.24066621e-02, -1.40718669e-02,  4.51622158e-03],\n",
       "       [ 1.40068708e-02, -1.63717158e-02,  4.11539385e-03],\n",
       "       [ 0.00000000e+00,  0.00000000e+00,  0.00000000e+00],\n",
       "       [ 6.90151574e-05, -6.77052667e-05,  4.65653029e-05],\n",
       "       [ 1.73380962e-04, -1.80674644e-04,  9.55162759e-05],\n",
       "       [ 4.29928419e-04, -5.33319311e-04,  6.38459096e-05],\n",
       "       [ 4.55915346e-04, -5.05130913e-04,  1.90250052e-04],\n",
       "       [ 4.25877311e-04, -5.86507434e-04, -5.48161079e-05],\n",
       "       [ 8.86678288e-04, -1.05829758e-03,  2.16067740e-04],\n",
       "       [ 1.02425052e-03, -1.21431134e-03,  2.66193150e-04],\n",
       "       [ 3.70836322e-04, -5.81815839e-04, -1.91945830e-04],\n",
       "       [ 5.66761941e-04, -8.28117423e-04, -1.69459672e-04],\n",
       "       [ 2.11300008e-04, -4.29697655e-04, -3.08490300e-04],\n",
       "       [ 8.16400512e-04, -1.15386292e-03, -1.64984260e-04],\n",
       "       [ 1.72266562e-03, -2.13557226e-03,  2.58593791e-04],\n",
       "       [-3.49676615e-04,  1.96710200e-04, -5.32695965e-04],\n",
       "       [ 1.50327431e-03, -1.98597228e-03, -2.25283020e-05],\n",
       "       [ 3.77576071e-04, -7.16614595e-04, -4.47369181e-04],\n",
       "       [-8.11455538e-06, -2.72377714e-04, -5.74017700e-04],\n",
       "       [ 1.09268655e-03, -1.58970791e-03, -3.12800781e-04],\n",
       "       [-1.03999526e-04, -1.91640080e-04, -6.65741216e-04],\n",
       "       [-8.18967179e-04,  6.68109278e-04, -8.26991396e-04],\n",
       "       [-3.62242194e-04,  8.72750170e-05, -7.88115256e-04],\n",
       "       [ 1.53856003e-03, -2.18000798e-03, -3.22033360e-04],\n",
       "       [-9.20188148e-04,  7.38693168e-04, -9.53524082e-04],\n",
       "       [-2.68069236e-03,  2.98455195e-03, -1.08926231e-03],\n",
       "       [ 3.36384401e-05, -4.63861797e-04, -8.51117191e-04],\n",
       "       [-1.32444093e-03,  1.18713139e-03, -1.12110667e-03],\n",
       "       [-1.22534309e-03,  1.04455894e-03, -1.14622794e-03],\n",
       "       [-4.01714817e-03,  4.84781386e-03, -8.71147204e-04],\n",
       "       [-3.67039349e-03,  4.19805571e-03, -1.26504444e-03],\n",
       "       [-3.73551180e-03,  4.25430713e-03, -1.32445677e-03],\n",
       "       [-2.36706994e-03,  2.40945397e-03, -1.42001815e-03],\n",
       "       [-4.46175411e-03,  5.24858152e-03, -1.24292122e-03],\n",
       "       [-3.44441156e-03,  3.76917864e-03, -1.53275416e-03],\n",
       "       [-4.67897300e-03,  5.47302281e-03, -1.36647269e-03],\n",
       "       [-4.33692755e-03,  4.92774928e-03, -1.56101480e-03],\n",
       "       [-5.08603686e-03,  6.27343729e-03, -8.27715616e-04],\n",
       "       [-5.16579766e-03,  6.40501548e-03, -7.73371954e-04],\n",
       "       [-5.50347846e-03,  6.62929891e-03, -1.21818844e-03],\n",
       "       [-5.25217503e-03,  6.58959011e-03, -6.29176968e-04],\n",
       "       [-5.60111692e-03,  6.58312859e-03, -1.57195947e-03],\n",
       "       [-5.56486100e-03,  6.46894658e-03, -1.70693232e-03],\n",
       "       [-4.65019047e-03,  6.08265400e-03, -5.34186038e-05],\n",
       "       [-4.90357215e-03,  6.37974823e-03, -1.25974548e-04],\n",
       "       [-3.43638309e-03,  4.78877733e-03,  5.56442945e-04],\n",
       "       [ 2.59777694e-03, -2.42429134e-03,  2.00459431e-03],\n",
       "       [-1.39752554e-03,  2.46352050e-03,  1.27276860e-03],\n",
       "       [-5.89517644e-03,  7.52999540e-03, -4.35114896e-04],\n",
       "       [ 5.44972834e-04,  1.68370956e-04,  1.79342600e-03],\n",
       "       [-6.14975486e-03,  7.85564166e-03, -4.52952954e-04],\n",
       "       [-3.55439447e-03,  5.04609756e-03,  7.63888995e-04],\n",
       "       [-1.56233599e-03,  2.74850940e-03,  1.41164230e-03],\n",
       "       [ 5.33768022e-03, -5.80545282e-03,  2.44726380e-03],\n",
       "       [-2.63712206e-03,  4.04623104e-03,  1.17996952e-03],\n",
       "       [-2.23718933e-03,  3.59749817e-03,  1.33544474e-03],\n",
       "       [ 1.41742558e-03, -7.73996639e-04,  2.20670551e-03],\n",
       "       [-3.40025144e-05,  1.01102958e-03,  1.95983611e-03],\n",
       "       [ 6.97447872e-03, -7.88070168e-03,  2.59942352e-03],\n",
       "       [-8.78724386e-05,  1.11129892e-03,  2.01966357e-03],\n",
       "       [ 4.90583654e-04,  4.28904139e-04,  2.17689481e-03],\n",
       "       [ 4.30616271e-03, -4.29254863e-03,  2.76727322e-03],\n",
       "       [ 4.91926167e-03, -5.05652931e-03,  2.85134115e-03],\n",
       "       [ 8.59318208e-03, -1.07216248e-02,  1.15053880e-03],\n",
       "       [ 9.20729060e-03, -1.10497968e-02,  2.12114188e-03],\n",
       "       [ 8.66477285e-03, -1.00380778e-02,  2.72755022e-03],\n",
       "       [ 5.56339277e-03, -5.80123812e-03,  3.05717275e-03],\n",
       "       [ 9.49870329e-03, -1.16842296e-02,  1.61088002e-03],\n",
       "       [ 7.92189594e-03, -8.87710601e-03,  3.10283946e-03],\n",
       "       [ 6.92029856e-03, -7.50510488e-03,  3.21680494e-03],\n",
       "       [ 7.96820503e-03, -1.03598516e-02,  2.19124398e-04],\n",
       "       [ 9.71424207e-03, -1.21226553e-02,  1.29598170e-03],\n",
       "       [ 7.74449902e-03, -1.01761883e-02, -4.41080510e-06],\n",
       "       [ 9.10210796e-03, -1.16254343e-02,  6.73480390e-04],\n",
       "       [ 6.63907873e-03, -9.01259203e-03, -5.89717063e-04],\n",
       "       [ 1.05251353e-02, -1.30259367e-02,  1.62452040e-03],\n",
       "       [ 1.08714812e-02, -1.33327274e-02,  1.92509114e-03],\n",
       "       [ 4.88395337e-03, -7.08619691e-03, -1.35901594e-03],\n",
       "       [ 1.00491373e-02, -1.27479080e-02,  9.20186518e-04],\n",
       "       [ 9.22847725e-03, -1.19471913e-02,  3.57620069e-04],\n",
       "       [ 7.63960369e-03, -1.02596078e-02, -4.53061628e-04],\n",
       "       [ 4.37101955e-03, -6.57091895e-03, -1.68060057e-03],\n",
       "       [ 5.34550985e-03, -7.71479588e-03, -1.40413758e-03],\n",
       "       [ 9.25184879e-03, -1.20861605e-02,  1.38051910e-04],\n",
       "       [ 4.84690815e-03, -7.17931753e-03, -1.64656888e-03],\n",
       "       [ 1.09912362e-02, -1.39381951e-02,  1.01622776e-03],\n",
       "       [-5.18616987e-03,  4.91394382e-03, -3.85163119e-03],\n",
       "       [ 6.98072929e-03, -9.67857428e-03, -1.03011506e-03],\n",
       "       [ 2.97794794e-03, -5.07064164e-03, -2.34947982e-03],\n",
       "       [-5.56494109e-03,  5.33382921e-03, -4.00923099e-03],\n",
       "       [-1.95069506e-03,  8.20626621e-04, -3.53291584e-03],\n",
       "       [-1.30304266e-02,  1.54536068e-02, -3.37585318e-03],\n",
       "       [-1.00224325e-03, -3.72679904e-04, -3.42607242e-03],\n",
       "       [-1.10593326e-02,  1.24272509e-02, -4.26194072e-03],\n",
       "       [-1.07539846e-02,  1.19805783e-02, -4.35428601e-03],\n",
       "       [-5.89785120e-03,  5.63739100e-03, -4.28055413e-03],\n",
       "       [-1.37503175e-02,  1.62992533e-02, -3.57882166e-03],\n",
       "       [-1.28468471e-02,  1.48126427e-02, -4.18666052e-03],\n",
       "       [-1.41386073e-02,  1.73114743e-02, -2.56049051e-03],\n",
       "       [-1.39117297e-02,  1.72523484e-02, -2.07593618e-03],\n",
       "       [-7.37806875e-03,  1.03990538e-02,  1.43266818e-03],\n",
       "       [-1.09968018e-02,  1.44391945e-02, -1.49997186e-05],\n",
       "       [ 0.00000000e+00,  0.00000000e+00,  0.00000000e+00],\n",
       "       [-1.48660547e-04,  1.80215618e-04, -3.05851354e-05],\n",
       "       [-2.04853277e-04,  2.72924168e-04,  7.72019303e-06],\n",
       "       [-3.44164582e-04,  4.49236279e-04, -5.87248633e-06],\n",
       "       [-4.21523349e-04,  5.58749074e-04,  1.01207124e-05],\n",
       "       [-7.21929187e-04,  8.50375742e-04, -1.98808004e-04],\n",
       "       [-7.08758249e-04,  9.20094200e-04, -2.23236802e-05],\n",
       "       [-9.60214995e-04,  1.20718044e-03, -1.10046494e-04],\n",
       "       [-6.35398785e-04,  8.86487484e-04,  1.04969891e-04],\n",
       "       [-8.11601756e-04,  1.10618013e-03,  8.10658166e-05],\n",
       "       [-6.83671751e-05,  2.58721149e-04,  3.42552696e-04],\n",
       "       [-3.91316775e-04,  6.60847581e-04,  2.97661260e-04],\n",
       "       [ 1.67810867e-04,  8.08020468e-06,  4.63482080e-04],\n",
       "       [-8.08486308e-04,  1.18444941e-03,  2.48101074e-04],\n",
       "       [-1.12271518e-03,  1.56354241e-03,  1.79730894e-04],\n",
       "       [-4.45639482e-04,  7.97280576e-04,  4.29624721e-04],\n",
       "       [ 2.29355181e-04,  3.93971641e-06,  6.19056111e-04],\n",
       "       [ 9.74693743e-04, -9.00191662e-04,  7.71213498e-04],\n",
       "       [ 2.65408587e-03, -3.16210790e-03,  6.58281147e-04],\n",
       "       [ 1.06666912e-03, -9.77585441e-04,  8.59302352e-04],\n",
       "       [ 9.24480264e-05,  2.40928712e-04,  7.34925095e-04],\n",
       "       [ 1.32253999e-03, -1.26129808e-03,  9.65627609e-04],\n",
       "       [ 1.50940369e-03, -1.47818192e-03,  1.02363131e-03],\n",
       "       [ 2.97316001e-03, -3.38896969e-03,  1.04829471e-03],\n",
       "       [ 5.07786346e-04, -1.94139735e-04,  9.59157536e-04],\n",
       "       [ 3.21855792e-03, -3.66508984e-03,  1.14211498e-03],\n",
       "       [ 3.59612890e-03, -4.17299382e-03,  1.11800968e-03],\n",
       "       [ 3.90340551e-03, -4.60045459e-03,  1.06976402e-03],\n",
       "       [ 3.54652805e-03, -4.02300712e-03,  1.29004125e-03],\n",
       "       [ 4.15658299e-03, -4.88146069e-03,  1.17440347e-03],\n",
       "       [ 3.22400895e-03, -3.52677889e-03,  1.43714109e-03],\n",
       "       [ 4.52286331e-03, -5.35375718e-03,  1.19242945e-03],\n",
       "       [ 4.72628465e-03, -5.63838379e-03,  1.15716108e-03],\n",
       "       [ 4.40083863e-03, -5.57165639e-03,  4.25409875e-04],\n",
       "       [ 4.93039982e-03, -5.81879821e-03,  1.33509084e-03],\n",
       "       [ 3.46026779e-03, -4.63922741e-03, -1.89511920e-04],\n",
       "       [ 1.42426474e-03, -2.33170507e-03, -9.34198441e-04],\n",
       "       [ 5.11322590e-03, -5.93195390e-03,  1.59270270e-03],\n",
       "       [ 3.19816638e-03, -4.41412814e-03, -4.31308203e-04],\n",
       "       [ 2.12481176e-03, -3.20554152e-03, -8.39938235e-04],\n",
       "       [ 4.77455463e-03, -6.18595537e-03,  1.75258872e-04],\n",
       "       [ 3.97618301e-03, -5.34923049e-03, -2.54898565e-04],\n",
       "       [ 2.86770822e-03, -4.12059715e-03, -7.16442533e-04],\n",
       "       [ 2.83001550e-03, -4.09709709e-03, -7.69207021e-04],\n",
       "       [ 2.32339976e-03, -3.53075564e-03, -9.70398251e-04],\n",
       "       [ 5.42771677e-03, -7.01811863e-03,  2.27787954e-04],\n",
       "       [-3.69262323e-03,  3.77543899e-03, -2.18136236e-03],\n",
       "       [-4.14541597e-03,  4.33764653e-03, -2.24753865e-03],\n",
       "       [ 1.49537006e-03, -2.63328268e-03, -1.35637133e-03],\n",
       "       [ 3.08197900e-03, -4.50434815e-03, -9.23834799e-04],\n",
       "       [-4.55107121e-03,  4.79744328e-03, -2.39582267e-03],\n",
       "       [-1.58827251e-03,  1.03817240e-03, -2.12612539e-03],\n",
       "       [-4.80902847e-03,  5.08804899e-03, -2.49372586e-03],\n",
       "       [-4.06186562e-03,  4.10314556e-03, -2.50051892e-03],\n",
       "       [-7.32550537e-03,  8.45371280e-03, -2.37255567e-03],\n",
       "       [-7.76619045e-03,  9.07124393e-03, -2.29427358e-03],\n",
       "       [-4.98261675e-03,  5.22447005e-03, -2.67954310e-03],\n",
       "       [-3.40495002e-03,  3.19047668e-03, -2.60125939e-03],\n",
       "       [-3.47434869e-03,  3.25861969e-03, -2.64795893e-03],\n",
       "       [-8.77087098e-03,  1.06328903e-02, -1.80391117e-03],\n",
       "       [-6.48685358e-03,  7.10528623e-03, -2.87284236e-03],\n",
       "       [-8.62838700e-03,  1.00843096e-02, -2.53684865e-03],\n",
       "       [-8.91683437e-03,  1.04861027e-02, -2.49049184e-03],\n",
       "       [-9.31283925e-03,  1.13705406e-02, -1.75186584e-03],\n",
       "       [-7.11451517e-03,  7.83989206e-03, -3.05528427e-03],\n",
       "       [-8.76425952e-03,  1.10666491e-02, -9.06608708e-04],\n",
       "       [-7.47847557e-03,  9.78390314e-03, -8.24040981e-05],\n",
       "       [-8.29251390e-03,  1.06681967e-02, -4.57830727e-04],\n",
       "       [-8.92835483e-03,  1.13442168e-02, -7.80878298e-04],\n",
       "       [-7.19034579e-03,  9.55022313e-03,  2.11334715e-04],\n",
       "       [-5.21211466e-03,  7.36194383e-03,  1.04393472e-03],\n",
       "       [-9.56599694e-03,  1.10188108e-02, -3.13967885e-03],\n",
       "       [ 4.72066179e-03, -4.55989037e-03,  3.32942954e-03],\n",
       "       [-2.42914096e-03,  4.18777717e-03,  2.02115276e-03],\n",
       "       [-6.62629213e-03,  9.04286839e-03,  6.85187289e-04],\n",
       "       [-4.48956853e-03,  6.63165422e-03,  1.48792844e-03],\n",
       "       [ 1.45797210e-03, -4.31210065e-04,  3.00992443e-03],\n",
       "       [-8.54047481e-04,  2.38537882e-03,  2.56226980e-03],\n",
       "       [-9.30922106e-03,  1.20613966e-02, -3.41129897e-04],\n",
       "       [ 1.10289017e-02, -1.28345592e-02,  3.35481879e-03],\n",
       "       [ 2.72743078e-03, -1.91976747e-03,  3.37323337e-03],\n",
       "       [ 9.42206290e-03, -1.04855355e-02,  3.83771164e-03],\n",
       "       [ 1.73220946e-03, -6.59971323e-04,  3.27662774e-03],\n",
       "       [ 1.20698139e-02, -1.42635545e-02,  3.23000993e-03],\n",
       "       [ 9.25360341e-03, -1.01770917e-02,  4.01443103e-03],\n",
       "       [ 1.12474868e-02, -1.28948782e-02,  3.81486001e-03],\n",
       "       [ 4.62586852e-03, -4.17117868e-03,  3.86520429e-03],\n",
       "       [ 1.29391365e-02, -1.56662092e-02,  2.70145922e-03],\n",
       "       [ 1.29803419e-02, -1.54692745e-02,  3.21063912e-03],\n",
       "       [ 1.27418721e-02, -1.58118512e-02,  1.88052235e-03],\n",
       "       [ 1.11397086e-02, -1.25693344e-02,  4.18793084e-03],\n",
       "       [ 1.23970928e-02, -1.43230986e-02,  3.98121588e-03],\n",
       "       [ 6.45468943e-03, -9.22422297e-03, -1.51018042e-03],\n",
       "       [ 1.21351248e-02, -1.38639389e-02,  4.21446189e-03],\n",
       "       [ 1.39590912e-02, -1.69567186e-02,  2.80167512e-03],\n",
       "       [ 9.85510740e-03, -1.31001240e-02, -3.11077543e-04],\n",
       "       [ 1.32608023e-02, -1.66402366e-02,  1.58308249e-03],\n",
       "       [ 1.08089997e-02, -1.41843883e-02,  3.14046229e-05],\n",
       "       [ 1.37745915e-02, -1.71983037e-02,  1.82016648e-03],\n",
       "       [ 1.00501375e-02, -1.34110106e-02, -4.21959499e-04]], dtype=float32)"
      ]
     },
     "execution_count": 12,
     "metadata": {},
     "output_type": "execute_result"
    }
   ],
   "source": [
    "\n",
    "\n",
    "\n",
    "\n",
    "class layer_dence:\n",
    "    def __init__(self,n_inputs,n_neuron):\n",
    "        #inititalizes the weights and biases terms\n",
    "        self.weights = 0.01 * np.random.randn(n_inputs, n_neuron)\n",
    "        self.bias=np.zeros((1,n_neuron))\n",
    "      \n",
    "    #forward pass\n",
    "    def forward(self,inputs):\n",
    "        \n",
    "        self.output = np.dot(inputs, self.weights) + self.bias\n",
    "\n",
    "# create datasets\n",
    "from nnfs.datasets import spiral_data\n",
    "import nnfs\n",
    "nnfs.init()\n",
    "x,y=spiral_data(samples=100,classes=3)\n",
    "\n",
    "#\n",
    "dl=layer_dence(2,3)\n",
    "dl.forward(x)\n",
    "dl.output\n",
    "        "
   ]
  },
  {
   "cell_type": "code",
   "execution_count": null,
   "metadata": {},
   "outputs": [],
   "source": []
  },
  {
   "cell_type": "markdown",
   "metadata": {},
   "source": [
    "<div class=\"alert alert-block alert-success\">\n",
    "<b>ACTIVATION FUNCTION: RELU</b>\n",
    "</div>"
   ]
  },
  {
   "cell_type": "code",
   "execution_count": 13,
   "metadata": {},
   "outputs": [
    {
     "name": "stdout",
     "output_type": "stream",
     "text": [
      "[0.   0.   0.   3.   4.67 0.  ]\n"
     ]
    }
   ],
   "source": [
    "input=[0,-1,-2.2,3,4.67,-7]\n",
    "print(np.maximum(0,input))"
   ]
  },
  {
   "cell_type": "code",
   "execution_count": 14,
   "metadata": {},
   "outputs": [],
   "source": [
    "## class relu activation function\n",
    "class Relu:\n",
    "    def forword(self,input):\n",
    "        self.output=np.maximum(0,input)"
   ]
  },
  {
   "cell_type": "code",
   "execution_count": 15,
   "metadata": {},
   "outputs": [
    {
     "name": "stdout",
     "output_type": "stream",
     "text": [
      "[0.   0.   0.   3.   4.67 0.  ]\n"
     ]
    }
   ],
   "source": [
    "ar=Relu()\n",
    "input=[0,-1,-2.2,3,4.67,-7]\n",
    "ar.forword(input)\n",
    "print(ar.output)"
   ]
  },
  {
   "cell_type": "code",
   "execution_count": 16,
   "metadata": {},
   "outputs": [
    {
     "name": "stdout",
     "output_type": "stream",
     "text": [
      "[[0. 0. 0.]\n",
      " [0. 0. 0.]\n",
      " [0. 0. 0.]\n",
      " [0. 0. 0.]\n",
      " [0. 0. 0.]]\n"
     ]
    }
   ],
   "source": [
    "# Create dataset\n",
    "X, y = spiral_data(samples=100, classes=3)\n",
    "# Create Dense layer with 2 input features and 3 output values\n",
    "dense1 = layer_dence(2, 3)\n",
    "# Create ReLU activation (to be used with Dense layer):\n",
    "activation1 = Relu()\n",
    "# Make a forward pass of our training data through this layer\n",
    "dense1.forward(X)\n",
    "# Forward pass through activation func.\n",
    "# Takes in output from previous layer\n",
    "activation1.forword(dense1.output)\n",
    "# Let's see output of the first few samples:\n",
    "print(activation1.output[:5])"
   ]
  },
  {
   "cell_type": "code",
   "execution_count": null,
   "metadata": {},
   "outputs": [],
   "source": []
  },
  {
   "cell_type": "markdown",
   "metadata": {},
   "source": [
    "<div class=\"alert alert-block alert-success\">\n",
    "<b>ACTIVATION FUNCTION: SOFTMAX</b>\n",
    "</div>"
   ]
  },
  {
   "cell_type": "code",
   "execution_count": 17,
   "metadata": {},
   "outputs": [
    {
     "name": "stdout",
     "output_type": "stream",
     "text": [
      "[[0.06414769 0.17437149 0.47399085 0.28748998]\n",
      " [0.04517666 0.90739747 0.00224921 0.04517666]\n",
      " [0.00522984 0.34875873 0.63547983 0.0105316 ]]\n"
     ]
    },
    {
     "data": {
      "text/plain": [
       "array([1., 1., 1.])"
      ]
     },
     "execution_count": 17,
     "metadata": {},
     "output_type": "execute_result"
    }
   ],
   "source": [
    "inputs = [[1, 2, 3, 2.5],\n",
    " [2., 5., -1., 2],\n",
    " [-1.5, 2.7, 3.3, -0.8]]\n",
    "\n",
    "# Get unnormalized probabilities\n",
    "exp_value=np.exp(inputs-np.max(inputs,axis=1,keepdims=True))\n",
    " # Normalize them for each sample\n",
    "probabilities=exp_value/np.sum(exp_value,axis=1,keepdims=True)\n",
    "print(probabilities)\n",
    "np.sum(probabilities,axis=1)"
   ]
  },
  {
   "cell_type": "code",
   "execution_count": 18,
   "metadata": {},
   "outputs": [
    {
     "data": {
      "text/plain": [
       "array([[-2. , -1. ,  0. , -0.5],\n",
       "       [-3. ,  0. , -6. , -3. ],\n",
       "       [-4.8, -0.6,  0. , -4.1]])"
      ]
     },
     "execution_count": 18,
     "metadata": {},
     "output_type": "execute_result"
    }
   ],
   "source": [
    "inputs-np.max(inputs,axis=1,keepdims=True)"
   ]
  },
  {
   "cell_type": "code",
   "execution_count": 19,
   "metadata": {},
   "outputs": [
    {
     "data": {
      "text/plain": [
       "array([[3. ],\n",
       "       [5. ],\n",
       "       [3.3]])"
      ]
     },
     "execution_count": 19,
     "metadata": {},
     "output_type": "execute_result"
    }
   ],
   "source": [
    "np.max(inputs,axis=1,keepdims=True)"
   ]
  },
  {
   "cell_type": "code",
   "execution_count": 20,
   "metadata": {},
   "outputs": [
    {
     "data": {
      "text/plain": [
       "\"' # Softmax activation\\nclass Activation_Softmax:\\n # Forward pass\\n def forward(self, inputs):\\n # Get unnormalized probabilities\\n  exp_values = np.exp(inputs - np.max(inputs, axis=1, keepdims=True))\\n # Normalize them for each sample\\n  probabilities = exp_values / np.sum(exp_values, axis=1,keepdims=True)\\n  self.output = probabilities\""
      ]
     },
     "execution_count": 20,
     "metadata": {},
     "output_type": "execute_result"
    }
   ],
   "source": [
    "## creating softmax class activation class\n",
    "class Softmax:\n",
    "    def forward(self,inputs):\n",
    "        # Get unnormalized probabilities\n",
    "      exp_value=np.exp(inputs-np.max(inputs,axis=1,keepdims=True))\n",
    " # Normalize them for each sample\n",
    "      probabilities=exp_value/np.sum(exp_value,axis=1,keepdims=True)\n",
    "      self.output=probabilities\n",
    "\n",
    "'''' # Softmax activation\n",
    "class Activation_Softmax:\n",
    " # Forward pass\n",
    " def forward(self, inputs):\n",
    " # Get unnormalized probabilities\n",
    "  exp_values = np.exp(inputs - np.max(inputs, axis=1, keepdims=True))\n",
    " # Normalize them for each sample\n",
    "  probabilities = exp_values / np.sum(exp_values, axis=1,keepdims=True)\n",
    "  self.output = probabilities'''"
   ]
  },
  {
   "cell_type": "code",
   "execution_count": 21,
   "metadata": {},
   "outputs": [
    {
     "name": "stdout",
     "output_type": "stream",
     "text": [
      "(300, 2)\n",
      "dence1.output.shape (300, 3)\n",
      "relu.output.shape (300, 3)\n",
      "dence2.output.shape (300, 3)\n",
      "softmax.output.shape (300, 3)\n",
      "[[0.33333334 0.33333334 0.33333334]\n",
      " [0.33333364 0.3333334  0.3333329 ]\n",
      " [0.33333385 0.33333346 0.33333266]\n",
      " [0.33333433 0.3333336  0.3333321 ]\n",
      " [0.33333465 0.33333373 0.33333164]]\n"
     ]
    }
   ],
   "source": [
    "## create dataset spiral\n",
    "x,y=spiral_data(samples=100,classes=3)\n",
    "#creating dence layer with 2 inputs 3 neruons\n",
    "dence1=layer_dence(2,3)\n",
    "#relu\n",
    "relu=Relu()\n",
    "#softmax\n",
    "softmax=Softmax()\n",
    "# creating 2nd layer\n",
    "dence2=layer_dence(3,3)\n",
    "dence1.forward(x)\n",
    "relu.forword(dence1.output)\n",
    "dence2.forward(relu.output)\n",
    "softmax.forward(dence2.output)\n",
    "print(x.shape)\n",
    "print('dence1.output.shape',dence1.output.shape)\n",
    "print('relu.output.shape',relu.output.shape)\n",
    "print('dence2.output.shape',dence2.output.shape)\n",
    "print('softmax.output.shape',softmax.output.shape)\n",
    "print(softmax.output[:5])\n",
    "\n",
    "\n",
    "\n",
    "\n"
   ]
  },
  {
   "cell_type": "code",
   "execution_count": null,
   "metadata": {},
   "outputs": [],
   "source": []
  },
  {
   "cell_type": "markdown",
   "metadata": {},
   "source": [
    "<div class=\"alert alert-block alert-warning\">\n",
    "CROSS ENTROPY LOSS BUILDING BLOCKS IN PYTHON\n",
    "</div>"
   ]
  },
  {
   "cell_type": "code",
   "execution_count": 22,
   "metadata": {},
   "outputs": [
    {
     "name": "stdout",
     "output_type": "stream",
     "text": [
      "[0.7 0.5 0.9]\n"
     ]
    }
   ],
   "source": [
    "softmax_outputs = np.array([[0.7, 0.1, 0.2],\n",
    " [0.1, 0.5, 0.4],\n",
    " [0.02, 0.9, 0.08]])\n",
    "class_target=[0 ,1,1]\n",
    "print(softmax_outputs[[0,1,2],class_target])"
   ]
  },
  {
   "cell_type": "code",
   "execution_count": 23,
   "metadata": {},
   "outputs": [
    {
     "name": "stdout",
     "output_type": "stream",
     "text": [
      "[0.35667494 0.69314718 0.10536052]\n",
      "[0.35667494 0.69314718 0.10536052]\n",
      "0.38506088005216804\n"
     ]
    }
   ],
   "source": [
    "print(-np.log(softmax_outputs[range(len(softmax_outputs)),class_target]))\n",
    "cross_entropy_loss=-np.log(softmax_outputs[range(len(softmax_outputs)),class_target])\n",
    "avg=np.mean(cross_entropy_loss)\n",
    "print(cross_entropy_loss)\n",
    "print(avg)"
   ]
  },
  {
   "cell_type": "code",
   "execution_count": null,
   "metadata": {},
   "outputs": [],
   "source": []
  },
  {
   "cell_type": "markdown",
   "metadata": {},
   "source": [
    "<div class=\"alert alert-block alert-warning\">\n",
    "IMPLEMENTING THE CATEGORICAL CROSS ENTROPY CLASS\n",
    "</div>"
   ]
  },
  {
   "cell_type": "code",
   "execution_count": 24,
   "metadata": {},
   "outputs": [],
   "source": [
    "##  loss class child of cross_entropy loss class\n",
    "class Loss:\n",
    " # Calculates the data and regularization losses\n",
    " # given model output and ground truth values\n",
    " def calculate(self, output, y):\n",
    "  # Calculate sample losses\n",
    "  sample_losses = self.forward(output, y)\n",
    "  # Calculate mean loss\n",
    "  data_loss = np.mean(sample_losses)\n",
    "  # Return loss\n",
    "  return data_loss\n"
   ]
  },
  {
   "cell_type": "code",
   "execution_count": 25,
   "metadata": {},
   "outputs": [],
   "source": [
    "# Cross-entropy loss\n",
    "class Loss_CategoricalCrossentropy(Loss):\n",
    " # Forward pass\n",
    " def forward(self, y_pred, y_true):\n",
    "  # Number of samples in a batch\n",
    "  samples = len(y_pred)\n",
    "  # Clip data to prevent division by 0\n",
    "  # Clip both sides to not drag mean towards any value\n",
    "  y_pred_clipped = np.clip(y_pred, 1e-7, 1 - 1e-7)\n",
    "  # Probabilities for target values -\n",
    "  # only if categorical labels\n",
    "  if len(y_true.shape) == 1:\n",
    "   correct_confidences = y_pred_clipped[\n",
    "   range(samples),\n",
    "   y_true\n",
    "   ]\n",
    "  # Mask values - only for one-hot encoded labels\n",
    "  elif len(y_true.shape) == 2:\n",
    "   correct_confidences = np.sum(\n",
    "   y_pred_clipped*y_true,\n",
    "   axis=1\n",
    "   )\n",
    " # Losses\n",
    "  negative_log_likelihoods = -np.log(correct_confidences)\n",
    "  return negative_log_likelihoods  \n",
    "    \n",
    "\n",
    "\n",
    "        "
   ]
  },
  {
   "cell_type": "code",
   "execution_count": 26,
   "metadata": {},
   "outputs": [
    {
     "ename": "NameError",
     "evalue": "name 'activation2' is not defined",
     "output_type": "error",
     "traceback": [
      "\u001b[1;31m---------------------------------------------------------------------------\u001b[0m",
      "\u001b[1;31mNameError\u001b[0m                                 Traceback (most recent call last)",
      "Cell \u001b[1;32mIn[26], line 2\u001b[0m\n\u001b[0;32m      1\u001b[0m X, y \u001b[38;5;241m=\u001b[39m spiral_data(samples\u001b[38;5;241m=\u001b[39m\u001b[38;5;241m100\u001b[39m, classes\u001b[38;5;241m=\u001b[39m\u001b[38;5;241m3\u001b[39m)\n\u001b[1;32m----> 2\u001b[0m \u001b[43mactivation2\u001b[49m\u001b[38;5;241m.\u001b[39moutput\u001b[38;5;241m=\u001b[39m[[\u001b[38;5;241m0.06414769\u001b[39m ,\u001b[38;5;241m0.17437149\u001b[39m ,\u001b[38;5;241m0.47399085\u001b[39m ,\u001b[38;5;241m0.28748998\u001b[39m],\n\u001b[0;32m      3\u001b[0m  [\u001b[38;5;241m0.04517666\u001b[39m ,\u001b[38;5;241m0.90739747\u001b[39m ,\u001b[38;5;241m0.00224921\u001b[39m ,\u001b[38;5;241m0.04517666\u001b[39m],\n\u001b[0;32m      4\u001b[0m  [\u001b[38;5;241m0.00522984\u001b[39m ,\u001b[38;5;241m0.34875873\u001b[39m ,\u001b[38;5;241m0.63547983\u001b[39m ,\u001b[38;5;241m0.0105316\u001b[39m ]\n\u001b[0;32m      5\u001b[0m  ]\n\u001b[0;32m      6\u001b[0m \u001b[38;5;66;03m# Cross-entropy loss\u001b[39;00m\n\u001b[0;32m      7\u001b[0m \u001b[38;5;28;01mclass\u001b[39;00m \u001b[38;5;21;01mLoss_CategoricalCrossentropy\u001b[39;00m(Loss):\n\u001b[0;32m      8\u001b[0m  \u001b[38;5;66;03m# Forward pass\u001b[39;00m\n",
      "\u001b[1;31mNameError\u001b[0m: name 'activation2' is not defined"
     ]
    }
   ],
   "source": [
    "X, y = spiral_data(samples=100, classes=3)\n",
    "activation2.output=[[0.06414769 ,0.17437149 ,0.47399085 ,0.28748998],\n",
    " [0.04517666 ,0.90739747 ,0.00224921 ,0.04517666],\n",
    " [0.00522984 ,0.34875873 ,0.63547983 ,0.0105316 ]\n",
    " ]\n",
    "# Cross-entropy loss\n",
    "class Loss_CategoricalCrossentropy(Loss):\n",
    " # Forward pass\n",
    " def forward(self, y_pred, y_true):\n",
    "  # Number of samples in a batch\n",
    "  samples = len(y_pred)\n",
    "  # Clip data to prevent division by 0\n",
    "  # Clip both sides to not drag mean towards any value\n",
    "  y_pred_clipped = np.clip(y_pred, 1e-7, 1 - 1e-7)\n",
    "  # Probabilities for target values -\n",
    "  # only if categorical labels\n",
    "  if len(y_true.shape) == 1:\n",
    "   correct_confidences = y_pred_clipped[\n",
    "   range(samples),\n",
    "   y_true\n",
    "   ]\n",
    "  # Mask values - only for one-hot encoded labels\n",
    "  elif len(y_true.shape) == 2:\n",
    "   correct_confidences = np.sum(\n",
    "   y_pred_clipped*y_true,\n",
    "   axis=1\n",
    "   )\n",
    " # Losses\n",
    "  negative_log_likelihoods = -np.log(correct_confidences)\n",
    "  return negative_log_likelihoods  \n",
    "    \n",
    "\n",
    "\n",
    "obj=Loss_CategoricalCrossentropy() \n",
    "print(np.array(activation2.output).shape)\n",
    "print(y.shape)       \n",
    "\n"
   ]
  },
  {
   "cell_type": "code",
   "execution_count": null,
   "metadata": {},
   "outputs": [],
   "source": [
    "softmax_outputs = np.array([[0.7, 0.1, 0.2],\n",
    " [0.1, 0.5, 0.4],\n",
    " [0.02, 0.9, 0.08]])\n",
    "class_targets = np.array([[1, 0, 0],\n",
    " [0, 1, 0],\n",
    " [0, 1, 0]])"
   ]
  },
  {
   "cell_type": "code",
   "execution_count": null,
   "metadata": {},
   "outputs": [
    {
     "data": {
      "text/plain": [
       "0.38506088005216804"
      ]
     },
     "execution_count": 27,
     "metadata": {},
     "output_type": "execute_result"
    }
   ],
   "source": [
    "cross_loss=Loss_CategoricalCrossentropy()\n",
    "cross_loss.forward(softmax_outputs,class_targets)\n",
    "cross_loss.calculate(softmax_outputs,class_targets)\n"
   ]
  },
  {
   "cell_type": "code",
   "execution_count": null,
   "metadata": {},
   "outputs": [
    {
     "name": "stdout",
     "output_type": "stream",
     "text": [
      "(300, 2)\n",
      "(300,)\n",
      "dence1.output.shape (300, 3)\n",
      "activation1.output.shape (300, 3)\n",
      "dence2.output.shape (300, 3)\n",
      "activation2.output.shape (300, 3)\n",
      "hii\n",
      "loss: 1.098613\n",
      "acc: 0.30666666666666664\n"
     ]
    }
   ],
   "source": [
    "# Create dataset\n",
    "X, y = spiral_data(samples=100, classes=3)\n",
    "# Create Dense layer with 2 input features and 3 output values\n",
    "dense1 = layer_dence(2, 3)\n",
    "# Create ReLU activation (to be used with Dense layer):\n",
    "activation1 = Relu()\n",
    "# Create second Dense layer with 3 input features (as we take output\n",
    "# of previous layer here) and 3 output values\n",
    "dense2 = layer_dence(3, 3)\n",
    "# Create Softmax activation (to be used with Dense layer):\n",
    "activation2 = Softmax()\n",
    "# Create loss function\n",
    "loss_function = Loss_CategoricalCrossentropy()\n",
    "# Perform a forward pass of our training data through this layer\n",
    "dense1.forward(X)\n",
    "print(X.shape)\n",
    "print(y.shape)\n",
    "# Perform a forward pass through activation function\n",
    "# it takes the output of first dense layer here\n",
    "activation1.forword(dense1.output)\n",
    "print('dence1.output.shape',dence1.output.shape)\n",
    "print('activation1.output.shape',activation1.output.shape)\n",
    "\n",
    "# Perform a forward pass through second Dense layer\n",
    "# it takes outputs of activation function of first layer as inputs\n",
    "dense2.forward(activation1.output)\n",
    "# Perform a forward pass through activation function\n",
    "# it takes the output of second dense layer here\n",
    "activation2.forward(dense2.output)\n",
    "# Let's see output of the first few samples:\n",
    "print('dence2.output.shape',dence2.output.shape)\n",
    "print('activation2.output.shape',activation2.output.shape)\n",
    "print(\"hii\")\n",
    "# Perform a forward pass through activation function\n",
    "# it takes the output of second dense layer here and returns loss\n",
    "loss = loss_function.calculate(activation2.output, y)\n",
    "# Print loss value\n",
    "print('loss:', loss)\n",
    "\n",
    "# Calculate accuracy from output of activation2 and targets\n",
    "# calculate values along first axis\n",
    "predictions = np.argmax(activation2.output, axis=1)\n",
    "if len(y.shape) == 2:\n",
    " y = np.argmax(y, axis=1)\n",
    "accuracy = np.mean(predictions == y)\n",
    "# Print accuracy\n",
    "print('acc:', accuracy)"
   ]
  },
  {
   "cell_type": "code",
   "execution_count": null,
   "metadata": {},
   "outputs": [
    {
     "data": {
      "text/plain": [
       "array([2, 1, 2], dtype=int64)"
      ]
     },
     "execution_count": 29,
     "metadata": {},
     "output_type": "execute_result"
    }
   ],
   "source": [
    "np.argmax(activation2.output, axis=1)"
   ]
  },
  {
   "cell_type": "code",
   "execution_count": null,
   "metadata": {},
   "outputs": [],
   "source": [
    "softmax_outputs = np.array([[0.7, 0.1, 0.2],\n",
    " [0.1, 0.5, 0.4],\n",
    " [0.02, 0.9, 0.01]])\n",
    "class_targets = np.array([[1, 0, 0],\n",
    " [0, 1, 0],\n",
    " [0, 1, 0]])"
   ]
  },
  {
   "cell_type": "code",
   "execution_count": null,
   "metadata": {},
   "outputs": [
    {
     "name": "stdout",
     "output_type": "stream",
     "text": [
      "[0 1 1]\n",
      "[ True  True  True]\n",
      "0.6666666666666666\n",
      "1.0\n",
      "0.6\n"
     ]
    }
   ],
   "source": [
    "print(np.argmax(softmax_outputs,axis=1))\n",
    "print(np.argmax(class_targets,axis=1)==np.argmax(softmax_outputs,axis=1))\n",
    "\n",
    "print(np.mean(np.argmax(softmax_outputs,axis=1)))\n",
    "print(np.mean(np.argmax(class_targets,axis=1)==np.argmax(softmax_outputs,axis=1)))\n",
    "print(np.mean([True ,True,False,False,True]))"
   ]
  },
  {
   "cell_type": "code",
   "execution_count": null,
   "metadata": {},
   "outputs": [
    {
     "data": {
      "image/png": "[encoded data removed]",
      "text/plain": [
       "<Figure size 640x480 with 1 Axes>"
      ]
     },
     "metadata": {},
     "output_type": "display_data"
    }
   ],
   "source": [
    "from nnfs.datasets import vertical_data\n",
    "import nnfs\n",
    "nnfs.init()\n",
    "x,y=vertical_data(samples=100,classes=3)\n",
    "plt.scatter(x[:,0],x[:,1],c=y)\n",
    "plt.show()\n"
   ]
  },
  {
   "cell_type": "code",
   "execution_count": null,
   "metadata": {},
   "outputs": [
    {
     "name": "stdout",
     "output_type": "stream",
     "text": [
      "my_loss : 1.0989602\n"
     ]
    },
    {
     "ename": "AxisError",
     "evalue": "axis 1 is out of bounds for array of dimension 1",
     "output_type": "error",
     "traceback": [
      "\u001b[1;31m---------------------------------------------------------------------------\u001b[0m",
      "\u001b[1;31mAxisError\u001b[0m                                 Traceback (most recent call last)",
      "Cell \u001b[1;32mIn[91], line 39\u001b[0m\n\u001b[0;32m     37\u001b[0m \u001b[38;5;28mprint\u001b[39m(\u001b[38;5;124m\"\u001b[39m\u001b[38;5;124mmy_loss :\u001b[39m\u001b[38;5;124m\"\u001b[39m,my_loss)\n\u001b[0;32m     38\u001b[0m y_pred\u001b[38;5;241m=\u001b[39mnp\u001b[38;5;241m.\u001b[39margmax(activation2\u001b[38;5;241m.\u001b[39moutput,axis\u001b[38;5;241m=\u001b[39m\u001b[38;5;241m1\u001b[39m)\n\u001b[1;32m---> 39\u001b[0m y_true\u001b[38;5;241m=\u001b[39m\u001b[43mnp\u001b[49m\u001b[38;5;241;43m.\u001b[39;49m\u001b[43margmax\u001b[49m\u001b[43m(\u001b[49m\u001b[43my\u001b[49m\u001b[43m,\u001b[49m\u001b[43maxis\u001b[49m\u001b[38;5;241;43m=\u001b[39;49m\u001b[38;5;241;43m1\u001b[39;49m\u001b[43m)\u001b[49m\n\u001b[0;32m     40\u001b[0m accuracy\u001b[38;5;241m=\u001b[39mnp\u001b[38;5;241m.\u001b[39mmean(y_pred\u001b[38;5;241m==\u001b[39my_true)\n\u001b[0;32m     42\u001b[0m \u001b[38;5;28;01mif\u001b[39;00m (my_loss\u001b[38;5;241m<\u001b[39m\u001b[38;5;241m=\u001b[39mlowest_loss):\n",
      "File \u001b[1;32m~\\AppData\\Roaming\\Python\\Python312\\site-packages\\numpy\\core\\fromnumeric.py:1229\u001b[0m, in \u001b[0;36margmax\u001b[1;34m(a, axis, out, keepdims)\u001b[0m\n\u001b[0;32m   1142\u001b[0m \u001b[38;5;250m\u001b[39m\u001b[38;5;124;03m\"\"\"\u001b[39;00m\n\u001b[0;32m   1143\u001b[0m \u001b[38;5;124;03mReturns the indices of the maximum values along an axis.\u001b[39;00m\n\u001b[0;32m   1144\u001b[0m \n\u001b[1;32m   (...)\u001b[0m\n\u001b[0;32m   1226\u001b[0m \u001b[38;5;124;03m(2, 1, 4)\u001b[39;00m\n\u001b[0;32m   1227\u001b[0m \u001b[38;5;124;03m\"\"\"\u001b[39;00m\n\u001b[0;32m   1228\u001b[0m kwds \u001b[38;5;241m=\u001b[39m {\u001b[38;5;124m'\u001b[39m\u001b[38;5;124mkeepdims\u001b[39m\u001b[38;5;124m'\u001b[39m: keepdims} \u001b[38;5;28;01mif\u001b[39;00m keepdims \u001b[38;5;129;01mis\u001b[39;00m \u001b[38;5;129;01mnot\u001b[39;00m np\u001b[38;5;241m.\u001b[39m_NoValue \u001b[38;5;28;01melse\u001b[39;00m {}\n\u001b[1;32m-> 1229\u001b[0m \u001b[38;5;28;01mreturn\u001b[39;00m \u001b[43m_wrapfunc\u001b[49m\u001b[43m(\u001b[49m\u001b[43ma\u001b[49m\u001b[43m,\u001b[49m\u001b[43m \u001b[49m\u001b[38;5;124;43m'\u001b[39;49m\u001b[38;5;124;43margmax\u001b[39;49m\u001b[38;5;124;43m'\u001b[39;49m\u001b[43m,\u001b[49m\u001b[43m \u001b[49m\u001b[43maxis\u001b[49m\u001b[38;5;241;43m=\u001b[39;49m\u001b[43maxis\u001b[49m\u001b[43m,\u001b[49m\u001b[43m \u001b[49m\u001b[43mout\u001b[49m\u001b[38;5;241;43m=\u001b[39;49m\u001b[43mout\u001b[49m\u001b[43m,\u001b[49m\u001b[43m \u001b[49m\u001b[38;5;241;43m*\u001b[39;49m\u001b[38;5;241;43m*\u001b[39;49m\u001b[43mkwds\u001b[49m\u001b[43m)\u001b[49m\n",
      "File \u001b[1;32m~\\AppData\\Roaming\\Python\\Python312\\site-packages\\numpy\\core\\fromnumeric.py:59\u001b[0m, in \u001b[0;36m_wrapfunc\u001b[1;34m(obj, method, *args, **kwds)\u001b[0m\n\u001b[0;32m     56\u001b[0m     \u001b[38;5;28;01mreturn\u001b[39;00m _wrapit(obj, method, \u001b[38;5;241m*\u001b[39margs, \u001b[38;5;241m*\u001b[39m\u001b[38;5;241m*\u001b[39mkwds)\n\u001b[0;32m     58\u001b[0m \u001b[38;5;28;01mtry\u001b[39;00m:\n\u001b[1;32m---> 59\u001b[0m     \u001b[38;5;28;01mreturn\u001b[39;00m \u001b[43mbound\u001b[49m\u001b[43m(\u001b[49m\u001b[38;5;241;43m*\u001b[39;49m\u001b[43margs\u001b[49m\u001b[43m,\u001b[49m\u001b[43m \u001b[49m\u001b[38;5;241;43m*\u001b[39;49m\u001b[38;5;241;43m*\u001b[39;49m\u001b[43mkwds\u001b[49m\u001b[43m)\u001b[49m\n\u001b[0;32m     60\u001b[0m \u001b[38;5;28;01mexcept\u001b[39;00m \u001b[38;5;167;01mTypeError\u001b[39;00m:\n\u001b[0;32m     61\u001b[0m     \u001b[38;5;66;03m# A TypeError occurs if the object does have such a method in its\u001b[39;00m\n\u001b[0;32m     62\u001b[0m     \u001b[38;5;66;03m# class, but its signature is not identical to that of NumPy's. This\u001b[39;00m\n\u001b[1;32m   (...)\u001b[0m\n\u001b[0;32m     66\u001b[0m     \u001b[38;5;66;03m# Call _wrapit from within the except clause to ensure a potential\u001b[39;00m\n\u001b[0;32m     67\u001b[0m     \u001b[38;5;66;03m# exception has a traceback chain.\u001b[39;00m\n\u001b[0;32m     68\u001b[0m     \u001b[38;5;28;01mreturn\u001b[39;00m _wrapit(obj, method, \u001b[38;5;241m*\u001b[39margs, \u001b[38;5;241m*\u001b[39m\u001b[38;5;241m*\u001b[39mkwds)\n",
      "\u001b[1;31mAxisError\u001b[0m: axis 1 is out of bounds for array of dimension 1"
     ]
    }
   ],
   "source": [
    "# optimization with second strategy that is random adust with weight and biases\n",
    "#  \n",
    "x,y=vertical_data(samples=100,classes=3)\n",
    "# Create Dense layer with 2 input features and 3 output values\n",
    "dense1 = layer_dence(2, 3)\n",
    "# Create ReLU activation (to be used with Dense layer):\n",
    "activation1 = Relu()\n",
    "# Create second Dense layer with 3 input features (as we take output\n",
    "# of previous layer here) and 3 output values\n",
    "dense2 = layer_dence(3, 3)\n",
    "# Create Softmax activation (to be used with Dense layer):\n",
    "activation2 = Softmax()\n",
    "# Create loss function\n",
    "loss_function = Loss_CategoricalCrossentropy()\n",
    "# helper variable\n",
    "lowest_loss=9999\n",
    "best_dence1_weights=dence1.weights.copy()\n",
    "best_dence1_biases=dence1.bias.copy()\n",
    "best_dence2_weights=dence2.weights.copy()\n",
    "best_dence2_biases=dence2.bias.copy()\n",
    "# dence1.weights.copy()\n",
    "# dence1.bias.copy()\n",
    "\n",
    "for iteration in range(10000):\n",
    "    # new weigths and biases\n",
    "    dence1.weights+=0.05*np.random.randn(2,3)\n",
    "    dence1.bias+=0.05*np.random.randn(1,3)\n",
    "    dence2.weights+=0.05*np.random.randn(3,3)\n",
    "    dence2.bias+=0.05*np.random.randn(1,3)\n",
    "\n",
    "\n",
    "    dence1.forward(x)\n",
    "    activation1.forword(dence1.output)\n",
    "    dence2.forward(activation1.output)\n",
    "    activation2.forward(dence2.output)\n",
    "    my_loss=loss_function.calculate(activation2.output,y)\n",
    "    print(\"my_loss :\",my_loss)\n",
    "    y_pred=np.argmax(activation2.output,axis=1)\n",
    "    y_true=np.argmax(y,axis=1)\n",
    "    accuracy=np.mean(y_pred==y_true)\n",
    "\n",
    "    if (my_loss<=lowest_loss):\n",
    "        print(\"for iteration\",iteration,\"loss :\",my_loss,\"and accuracy :\",accuracy)\n",
    "        best_dence1_weights=dence1.weights.copy()\n",
    "        best_dence1_biases=dence1.bias.copy()\n",
    "        best_dence2_weights=dence2.weights.copy()\n",
    "        best_dence2_biases=dence2.bias.copy()\n",
    "\n",
    "\n",
    "\n",
    "\n",
    "\n",
    "\n",
    "\n",
    "    \n"
   ]
  },
  {
   "cell_type": "code",
   "execution_count": 27,
   "metadata": {},
   "outputs": [
    {
     "name": "stdout",
     "output_type": "stream",
     "text": [
      "Iteration 1, Loss: 36.0\n",
      "Iteration 2, Loss: 33.872397424621624\n",
      "Iteration 3, Loss: 31.87054345809546\n",
      "Iteration 4, Loss: 29.98699091998773\n",
      "Iteration 5, Loss: 28.214761511794592\n",
      "Iteration 6, Loss: 26.54726775906168\n",
      "Iteration 7, Loss: 24.978326552541866\n",
      "Iteration 8, Loss: 23.5021050739742\n",
      "Iteration 9, Loss: 22.11313179151597\n",
      "Iteration 10, Loss: 20.806246424284897\n",
      "Iteration 11, Loss: 19.576596334671486\n",
      "Iteration 12, Loss: 18.41961908608719\n",
      "Iteration 13, Loss: 17.33101994032309\n",
      "Iteration 14, Loss: 16.306757070164853\n",
      "Iteration 15, Loss: 15.343027506224132\n",
      "Iteration 16, Loss: 14.436253786815284\n",
      "Iteration 17, Loss: 13.583071280700132\n",
      "Iteration 18, Loss: 12.780312744165439\n",
      "Iteration 19, Loss: 12.024995767388878\n",
      "Iteration 20, Loss: 11.314319082257104\n",
      "Iteration 21, Loss: 10.64564263994962\n",
      "Iteration 22, Loss: 10.016485041642266\n",
      "Iteration 23, Loss: 9.424510031713222\n",
      "Iteration 24, Loss: 8.867521365009814\n",
      "Iteration 25, Loss: 8.34345204094211\n",
      "Iteration 26, Loss: 7.850353118483743\n",
      "Iteration 27, Loss: 7.386397874602818\n",
      "Iteration 28, Loss: 6.94986173712617\n",
      "Iteration 29, Loss: 6.539124434950737\n",
      "Iteration 30, Loss: 6.1526621719118015\n",
      "Iteration 31, Loss: 5.789039869058961\n",
      "Iteration 32, Loss: 5.446907999417336\n",
      "Iteration 33, Loss: 5.124995576577539\n",
      "Iteration 34, Loss: 4.822108497170647\n",
      "Iteration 35, Loss: 4.537121521071987\n",
      "Iteration 36, Loss: 4.268978030723312\n",
      "Iteration 37, Loss: 4.01668121563854\n",
      "Iteration 38, Loss: 3.7792956126389763\n",
      "Iteration 39, Loss: 3.5559389510643094\n",
      "Iteration 40, Loss: 3.345782865003274\n",
      "Iteration 41, Loss: 3.1480471758404285\n",
      "Iteration 42, Loss: 2.961997679823884\n",
      "Iteration 43, Loss: 2.78694359065541\n",
      "Iteration 44, Loss: 2.622235303237792\n",
      "Iteration 45, Loss: 2.467261121418954\n",
      "Iteration 46, Loss: 2.321446092335641\n",
      "Iteration 47, Loss: 2.184248486806066\n",
      "Iteration 48, Loss: 2.0551593804914616\n",
      "Iteration 49, Loss: 1.9336995852420789\n",
      "Iteration 50, Loss: 1.8194178573235094\n",
      "Iteration 51, Loss: 1.7118903069357754\n",
      "Iteration 52, Loss: 1.6107175940030252\n",
      "Iteration 53, Loss: 1.5155241897377694\n",
      "Iteration 54, Loss: 1.4259567411109748\n",
      "Iteration 55, Loss: 1.3416826255281136\n",
      "Iteration 56, Loss: 1.262389208248047\n",
      "Iteration 57, Loss: 1.1877819791340551\n",
      "Iteration 58, Loss: 1.1175840765571434\n",
      "Iteration 59, Loss: 1.0515348500680068\n",
      "Iteration 60, Loss: 0.9893891461492582\n",
      "Iteration 61, Loss: 0.930916260625565\n",
      "Iteration 62, Loss: 0.875899078709395\n",
      "Iteration 63, Loss: 0.8241334819517507\n",
      "Iteration 64, Loss: 0.7754271861095672\n",
      "Iteration 65, Loss: 0.7295994320679934\n",
      "Iteration 66, Loss: 0.6864801042040583\n",
      "Iteration 67, Loss: 0.6459091389617334\n",
      "Iteration 68, Loss: 0.6077358933180028\n",
      "Iteration 69, Loss: 0.5718187120029812\n",
      "Iteration 70, Loss: 0.5380242202642829\n",
      "Iteration 71, Loss: 0.5062269967452033\n",
      "Iteration 72, Loss: 0.4763089781884024\n",
      "Iteration 73, Loss: 0.4481591180173807\n",
      "Iteration 74, Loss: 0.42167291418136477\n",
      "Iteration 75, Loss: 0.3967520449790852\n",
      "Iteration 76, Loss: 0.3733039992368791\n",
      "Iteration 77, Loss: 0.3512417316144445\n",
      "Iteration 78, Loss: 0.33048334753976116\n",
      "Iteration 79, Loss: 0.31095177724411444\n",
      "Iteration 80, Loss: 0.2925745286179104\n",
      "Iteration 81, Loss: 0.2752833763568879\n",
      "Iteration 82, Loss: 0.25901412505149535\n",
      "Iteration 83, Loss: 0.2437063914735247\n",
      "Iteration 84, Loss: 0.22930333977371198\n",
      "Iteration 85, Loss: 0.21575151284725816\n",
      "Iteration 86, Loss: 0.2030006012946216\n",
      "Iteration 87, Loss: 0.19100326852350488\n",
      "Iteration 88, Loss: 0.17971497196649536\n",
      "Iteration 89, Loss: 0.1690938194815031\n",
      "Iteration 90, Loss: 0.1591003719214838\n",
      "Iteration 91, Loss: 0.14969754273736763\n",
      "Iteration 92, Loss: 0.14085041966208015\n",
      "Iteration 93, Loss: 0.13252615564761738\n",
      "Iteration 94, Loss: 0.1246938532452423\n",
      "Iteration 95, Loss: 0.11732446503349986\n",
      "Iteration 96, Loss: 0.11039058885430607\n",
      "Iteration 97, Loss: 0.10386649785129919\n",
      "Iteration 98, Loss: 0.09772798570124883\n",
      "Iteration 99, Loss: 0.09195226348280558\n",
      "Iteration 100, Loss: 0.0865178816583512\n",
      "Iteration 101, Loss: 0.08140467291758889\n",
      "Iteration 102, Loss: 0.07659366262828358\n",
      "Iteration 103, Loss: 0.07206697005843195\n",
      "Iteration 104, Loss: 0.06780781192053903\n",
      "Iteration 105, Loss: 0.06380037696069592\n",
      "Iteration 106, Loss: 0.06002977345222309\n",
      "Iteration 107, Loss: 0.0564820075507719\n",
      "Iteration 108, Loss: 0.05314393144118542\n",
      "Iteration 109, Loss: 0.050003114234231524\n",
      "Iteration 110, Loss: 0.04704793686603195\n",
      "Iteration 111, Loss: 0.04426740148833972\n",
      "Iteration 112, Loss: 0.04165120020443161\n",
      "Iteration 113, Loss: 0.03918961375201954\n",
      "Iteration 114, Loss: 0.0368735034129829\n",
      "Iteration 115, Loss: 0.034694277992582755\n",
      "Iteration 116, Loss: 0.032643851730490094\n",
      "Iteration 117, Loss: 0.03071459534999028\n",
      "Iteration 118, Loss: 0.028899363239415818\n",
      "Iteration 119, Loss: 0.027191414181739672\n",
      "Iteration 120, Loss: 0.02558439994540113\n",
      "Iteration 121, Loss: 0.024072362337913877\n",
      "Iteration 122, Loss: 0.022649683089386127\n",
      "Iteration 123, Loss: 0.021311092099735786\n",
      "Iteration 124, Loss: 0.02005160424149179\n",
      "Iteration 125, Loss: 0.01886655505507656\n",
      "Iteration 126, Loss: 0.017751540667355833\n",
      "Iteration 127, Loss: 0.016702427744061103\n",
      "Iteration 128, Loss: 0.01571531497821091\n",
      "Iteration 129, Loss: 0.014786535770396103\n",
      "Iteration 130, Loss: 0.013912651762769943\n",
      "Iteration 131, Loss: 0.013090418519936803\n",
      "Iteration 132, Loss: 0.012316768931710837\n",
      "Iteration 133, Loss: 0.011588849600126475\n",
      "Iteration 134, Loss: 0.010903943586632107\n",
      "Iteration 135, Loss: 0.010259526183227799\n",
      "Iteration 136, Loss: 0.009653186757193668\n",
      "Iteration 137, Loss: 0.009082688171817357\n",
      "Iteration 138, Loss: 0.008545899068542421\n",
      "Iteration 139, Loss: 0.00804083320361364\n",
      "Iteration 140, Loss: 0.007565618804557518\n",
      "Iteration 141, Loss: 0.007118492429622391\n",
      "Iteration 142, Loss: 0.006697793120481266\n",
      "Iteration 143, Loss: 0.0063019473730584336\n",
      "Iteration 144, Loss: 0.005929501997799936\n",
      "Iteration 145, Loss: 0.005579070290327091\n",
      "Iteration 146, Loss: 0.005249347396309216\n",
      "Iteration 147, Loss: 0.004939114136252681\n",
      "Iteration 148, Loss: 0.004647215154254898\n",
      "Iteration 149, Loss: 0.00437256400626425\n",
      "Iteration 150, Loss: 0.004114139259196158\n",
      "Iteration 151, Loss: 0.0038709956233987848\n",
      "Iteration 152, Loss: 0.0036422222163822442\n",
      "Iteration 153, Loss: 0.0034269635873455254\n",
      "Iteration 154, Loss: 0.0032244300300798123\n",
      "Iteration 155, Loss: 0.003033866206344064\n",
      "Iteration 156, Loss: 0.0028545694817259646\n",
      "Iteration 157, Loss: 0.0026858615040063873\n",
      "Iteration 158, Loss: 0.002527124440860861\n",
      "Iteration 159, Loss: 0.002377772426750458\n",
      "Iteration 160, Loss: 0.0022372501846465924\n",
      "Iteration 161, Loss: 0.002105026221950533\n",
      "Iteration 162, Loss: 0.0019806188966821317\n",
      "Iteration 163, Loss: 0.001863566163059441\n",
      "Iteration 164, Loss: 0.0017534302886055876\n",
      "Iteration 165, Loss: 0.0016498016244949178\n",
      "Iteration 166, Loss: 0.0015522968336895225\n",
      "Iteration 167, Loss: 0.0014605572212372654\n",
      "Iteration 168, Loss: 0.0013742383231737623\n",
      "Iteration 169, Loss: 0.0012930183418168389\n",
      "Iteration 170, Loss: 0.0012166008279945002\n",
      "Iteration 171, Loss: 0.0011447005613673634\n",
      "Iteration 172, Loss: 0.0010770513341135804\n",
      "Iteration 173, Loss: 0.001013397095948145\n",
      "Iteration 174, Loss: 0.0009535029620325111\n",
      "Iteration 175, Loss: 0.0008971534673183893\n",
      "Iteration 176, Loss: 0.0008441301639000644\n",
      "Iteration 177, Loss: 0.0007942435095401501\n",
      "Iteration 178, Loss: 0.0007473036766382048\n",
      "Iteration 179, Loss: 0.0007031374518087182\n",
      "Iteration 180, Loss: 0.0006615806720993984\n",
      "Iteration 181, Loss: 0.0006224808039162045\n",
      "Iteration 182, Loss: 0.0005856932236775429\n",
      "Iteration 183, Loss: 0.0005510780772974099\n",
      "Iteration 184, Loss: 0.0005185112321657664\n",
      "Iteration 185, Loss: 0.00048786689510026934\n",
      "Iteration 186, Loss: 0.00045903387854597503\n",
      "Iteration 187, Loss: 0.00043190420223823955\n",
      "Iteration 188, Loss: 0.000406378034681195\n",
      "Iteration 189, Loss: 0.00038236074013664776\n",
      "Iteration 190, Loss: 0.0003597649139507893\n",
      "Iteration 191, Loss: 0.0003385032407062897\n",
      "Iteration 192, Loss: 0.00031849748027454767\n",
      "Iteration 193, Loss: 0.00029967346881992795\n",
      "Iteration 194, Loss: 0.0002819629431575354\n",
      "Iteration 195, Loss: 0.0002652991815966534\n",
      "Iteration 196, Loss: 0.00024961903501571355\n",
      "Iteration 197, Loss: 0.00023486641976601822\n",
      "Iteration 198, Loss: 0.00022098629075865584\n",
      "Iteration 199, Loss: 0.00020792651372860275\n",
      "Iteration 200, Loss: 0.00019563773612380077\n",
      "Final weights: [-3.3990955  -0.20180899  0.80271349]\n",
      "Final bias: 0.6009044964517248\n"
     ]
    }
   ],
   "source": [
    "import numpy as np\n",
    "\n",
    "# Initial parameters\n",
    "weights = np.array([-3.0, -1.0, 2.0])\n",
    "bias = 1.0\n",
    "inputs = np.array([1.0, -2.0, 3.0])\n",
    "target_output = 0.0\n",
    "learning_rate = 0.001\n",
    "\n",
    "def relu(x):\n",
    "    return np.maximum(0, x)\n",
    "\n",
    "def relu_derivative(x):\n",
    "    return np.where(x > 0, 1.0, 0.0)\n",
    "\n",
    "for iteration in range(200):\n",
    "    # Forward pass\n",
    "    linear_output = np.dot(weights, inputs) + bias\n",
    "    output = relu(linear_output)\n",
    "    loss = (output - target_output) ** 2\n",
    "\n",
    "    # Backward pass\n",
    "    dloss_doutput = 2 * (output - target_output)\n",
    "    doutput_dlinear = relu_derivative(linear_output)\n",
    "    dlinear_dweights = inputs\n",
    "    dlinear_dbias = 1.0\n",
    "\n",
    "    dloss_dlinear = dloss_doutput * doutput_dlinear\n",
    "    dloss_dweights = dloss_dlinear * dlinear_dweights\n",
    "    dloss_dbias = dloss_dlinear * dlinear_dbias\n",
    "\n",
    "    # Update weights and bias\n",
    "    weights -= learning_rate * dloss_dweights\n",
    "    bias -= learning_rate * dloss_dbias\n",
    "\n",
    "    # Print the loss for this iteration\n",
    "    print(f\"Iteration {iteration + 1}, Loss: {loss}\")\n",
    "\n",
    "print(\"Final weights:\", weights)\n",
    "print(\"Final bias:\", bias)\n"
   ]
  },
  {
   "cell_type": "code",
   "execution_count": null,
   "metadata": {},
   "outputs": [],
   "source": [
    "# Softmax classifier - combined Softmax activation\n",
    "# and cross-entropy loss for faster backward step\n",
    "class Activation_Softmax_Loss_CategoricalCrossentropy:\n",
    "    # Creates activation and loss function objects\n",
    "    def __init__(self):\n",
    "        self.activation = Activation_Softmax()\n",
    "        self.loss = Loss_CategoricalCrossentropy()\n",
    "\n",
    "    # Forward pass\n",
    "    def forward(self, inputs, y_true):\n",
    "        # Output layer's activation function\n",
    "        self.activation.forward(inputs)\n",
    "        # Set the output\n",
    "        self.output = self.activation.output\n",
    "        # Calculate and return loss value\n",
    "        return self.loss.calculate(self.output, y_true)\n",
    "\n",
    "    # Backward pass\n",
    "    def backward(self, dvalues, y_true):\n",
    "        # Number of samples\n",
    "        samples = len(dvalues)\n",
    "        # If labels are one-hot encoded,\n",
    "        # turn them into discrete values\n",
    "        if len(y_true.shape) == 2:\n",
    "            y_true = np.argmax(y_true, axis=1)\n",
    "        # Copy so we can safely modify\n",
    "        self.dinputs = dvalues.copy()\n",
    "        # Calculate gradient\n",
    "        self.dinputs[range(samples), y_true] -= 1\n",
    "        # Normalize gradient\n",
    "        self.dinputs = self.dinputs / samples"
   ]
  },
  {
   "cell_type": "code",
   "execution_count": null,
   "metadata": {},
   "outputs": [],
   "source": [
    "# # combined cross entropy and softmax backward pass \n",
    "# class Activation_Softmax_Loss_CategoricalCrossentropy:\n",
    "#     def __init__(self) :\n",
    "#         self.softmax=Softmax()\n",
    "#         self.loss=Loss_CategoricalCrossentropy()\n",
    "\n",
    "#     #forward pass\n",
    "#     def forward(self, inputs, y_true):\n",
    "#         self.softmax.forward(inputs)\n",
    "#         self.output=self.softmax.output\n",
    "#         return self.loss.calculate(self.output,y_true)\n",
    "#     # backward pass\n",
    "#     def backward(self,dvalue,y_true):\n",
    "#         sample=len(dvalue)\n",
    "#         if len(y_true.shape)==2:## one hoted->discreate\n",
    "#             y_true = np.argmax(y_true, axis=1)\n",
    "#             self.dinputs=dvalue.copy()\n",
    "#             self.dinputs[range(sample),y_true]-=1\n",
    "    "
   ]
  }
 ],
 "metadata": {
  "kernelspec": {
   "display_name": "Python 3",
   "language": "python",
   "name": "python3"
  },
  "language_info": {
   "codemirror_mode": {
    "name": "ipython",
    "version": 3
   },
   "file_extension": ".py",
   "mimetype": "text/x-python",
   "name": "python",
   "nbconvert_exporter": "python",
   "pygments_lexer": "ipython3",
   "version": "3.12.2"
  }
 },
 "nbformat": 4,
 "nbformat_minor": 2
}
